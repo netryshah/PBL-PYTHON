{
 "cells": [
  {
   "cell_type": "code",
   "execution_count": 2,
   "id": "a4367093",
   "metadata": {},
   "outputs": [
    {
     "ename": "ModuleNotFoundError",
     "evalue": "No module named 'SOECE13058_DAXITA_UMESHBHAI_RAMANI_gui'",
     "output_type": "error",
     "traceback": [
      "\u001b[1;31m---------------------------------------------------------------------------\u001b[0m",
      "\u001b[1;31mModuleNotFoundError\u001b[0m                       Traceback (most recent call last)",
      "\u001b[1;32m~\\AppData\\Local\\Temp/ipykernel_4380/2889689555.py\u001b[0m in \u001b[0;36m<module>\u001b[1;34m\u001b[0m\n\u001b[0;32m      3\u001b[0m \u001b[1;32mimport\u001b[0m \u001b[0mshutil\u001b[0m\u001b[1;33m\u001b[0m\u001b[1;33m\u001b[0m\u001b[0m\n\u001b[0;32m      4\u001b[0m \u001b[1;32mimport\u001b[0m \u001b[0mimport_ipynb\u001b[0m\u001b[1;33m\u001b[0m\u001b[1;33m\u001b[0m\u001b[0m\n\u001b[1;32m----> 5\u001b[1;33m \u001b[1;32mimport\u001b[0m \u001b[0mSOECE13058_DAXITA_UMESHBHAI_RAMANI_gui\u001b[0m\u001b[1;33m\u001b[0m\u001b[1;33m\u001b[0m\u001b[0m\n\u001b[0m\u001b[0;32m      6\u001b[0m \u001b[1;33m\u001b[0m\u001b[0m\n\u001b[0;32m      7\u001b[0m \u001b[1;32mdef\u001b[0m \u001b[0mfile_extension\u001b[0m\u001b[1;33m(\u001b[0m\u001b[0mfilename\u001b[0m\u001b[1;33m)\u001b[0m\u001b[1;33m:\u001b[0m\u001b[1;33m\u001b[0m\u001b[1;33m\u001b[0m\u001b[0m\n",
      "\u001b[1;31mModuleNotFoundError\u001b[0m: No module named 'SOECE13058_DAXITA_UMESHBHAI_RAMANI_gui'"
     ]
    }
   ],
   "source": [
    "import os\n",
    "import os.path\n",
    "import shutil\n",
    "import import_ipynb\n",
    "import SOECE13065_NETRY_DIPENBHAU_SHAH_PBL_gui\n",
    "\n",
    "def file_extension(filename):\n",
    "    split_tup = os.path.splitext(filename)\n",
    "    return split_tup[1]\n",
    "\n",
    "def directory_exists(temp_dest):\n",
    "    return os.path.isdir(temp_dest)\n",
    "\n",
    "def create_directory(d, dir):\n",
    "    path=os.path.join(d, dir)\n",
    "    os.mkdir(path)\n",
    "\n",
    "def file_exists(f):\n",
    "    return os.path.exists(f)\n",
    "\n",
    "def movefile(s, d):\n",
    "    shutil.move(s, d)\n",
    "\n",
    "source = SOECE13065_NETRY_DIPENBHAU_SHAH_PBL_gui.source\n",
    "destination = SOECE13065_NETRY_DIPENBHAU_SHAH_PBL_gui.destination\n",
    "\n",
    "source += '/'\n",
    "destination += '/'\n",
    "for filename in os.listdir(source):\n",
    "\n",
    "    extension=(file_extension(filename))\n",
    "    extension=extension[1:]\n",
    "\n",
    "    if extension == '':\n",
    "        continue\n",
    "\n",
    "    temp = destination + extension\n",
    "\n",
    "    if not(directory_exists(temp)):\n",
    "        create_directory(destination, extension)\n",
    "\n",
    "    s = source + filename\n",
    "    d = destination + extension + '/' + filename\n",
    "\n",
    "    if file_exists(d):\n",
    "        print(filename, \" already exists\")\n",
    "        continue\n",
    "\n",
    "    movefile(s, d)\n"
   ]
  },
  {
   "cell_type": "code",
   "execution_count": null,
   "id": "151e16bb",
   "metadata": {},
   "outputs": [],
   "source": []
  }
 ],
 "metadata": {
  "kernelspec": {
   "display_name": "Python 3 (ipykernel)",
   "language": "python",
   "name": "python3"
  },
  "language_info": {
   "codemirror_mode": {
    "name": "ipython",
    "version": 3
   },
   "file_extension": ".py",
   "mimetype": "text/x-python",
   "name": "python",
   "nbconvert_exporter": "python",
   "pygments_lexer": "ipython3",
   "version": "3.10.0"
  }
 },
 "nbformat": 4,
 "nbformat_minor": 5
}
