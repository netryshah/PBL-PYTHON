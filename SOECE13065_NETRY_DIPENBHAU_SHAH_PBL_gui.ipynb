{
 "cells": [
  {
   "cell_type": "code",
   "execution_count": 1,
   "id": "250c8281",
   "metadata": {},
   "outputs": [],
   "source": [
    "import PySimpleGUI as sg\n",
    "\n",
    "sg.theme(\"Black\")\n",
    "\n",
    "layout = [[sg.Text(\"\")], [sg.Text(\"Choose Source folder: \",\n",
    "size=(20, 1)), sg.InputText(), sg.FolderBrowse()],\n",
    "[sg.Text(\"Choose Destination folder: \", size=(20, 1)),\n",
    "sg.InputText(), sg.FolderBrowse()],\n",
    "[sg.Text(\"\")], [sg.Button(\"Submit\", size=(8, 1))]]\n",
    "\n",
    "window = sg.Window(\"Python Project\", layout, size=(600,200))\n",
    "    \n",
    "while True:\n",
    "    event, values = window.read()\n",
    "\n",
    "    if values[0] == '':\n",
    "        print(\"Source Path can't be empty\")\n",
    "        continue\n",
    "\n",
    "    if values[1] == '':\n",
    "        print(\"Destination Path can't be empty\")\n",
    "        continue\n",
    "    \n",
    "    if event == sg.WIN_CLOSED or event==\"Exit\":\n",
    "        break\n",
    "    \n",
    "    elif event == \"Submit\":\n",
    "        source =values[0]\n",
    "        destination =values[1]\n",
    "        break\n"
   ]
  }
 ],
 "metadata": {
  "kernelspec": {
   "display_name": "Python 3 (ipykernel)",
   "language": "python",
   "name": "python3"
  },
  "language_info": {
   "codemirror_mode": {
    "name": "ipython",
    "version": 3
   },
   "file_extension": ".py",
   "mimetype": "text/x-python",
   "name": "python",
   "nbconvert_exporter": "python",
   "pygments_lexer": "ipython3",
   "version": "3.10.0"
  }
 },
 "nbformat": 4,
 "nbformat_minor": 5
}
